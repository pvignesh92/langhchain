{
 "cells": [
  {
   "cell_type": "code",
   "execution_count": 4,
   "metadata": {},
   "outputs": [
    {
     "data": {
      "text/plain": [
       "True"
      ]
     },
     "execution_count": 4,
     "metadata": {},
     "output_type": "execute_result"
    }
   ],
   "source": [
    "import os\n",
    "from dotenv import load_dotenv\n",
    "load_dotenv()"
   ]
  },
  {
   "cell_type": "code",
   "execution_count": 5,
   "metadata": {},
   "outputs": [],
   "source": [
    "os.environ[\"OPENAI_API_KEY\"]=os.getenv(\"OPENAI_API_KEY\")\n",
    "\n",
    "## Langsmith Tracking and tracing\n",
    "\n",
    "os.environ[\"LANGCHAIN_API_KEY\"]=os.getenv(\"LANGCHAIN_API_KEY\")\n",
    "os.environ[\"LANGCHAIN_TRACING_V2\"]=\"true\"\n",
    "os.environ[\"LANGCHAIN_PROJECT\"]=os.getenv(\"LANGCHAIN_PROJECT\")"
   ]
  },
  {
   "cell_type": "code",
   "execution_count": 6,
   "metadata": {},
   "outputs": [
    {
     "name": "stdout",
     "output_type": "stream",
     "text": [
      "client=<openai.resources.chat.completions.completions.Completions object at 0x11891c500> async_client=<openai.resources.chat.completions.completions.AsyncCompletions object at 0x118899160> root_client=<openai.OpenAI object at 0x118021520> root_async_client=<openai.AsyncOpenAI object at 0x11891c560> model_name='gpt-4o' model_kwargs={} openai_api_key=SecretStr('**********')\n"
     ]
    }
   ],
   "source": [
    "from langchain_openai import ChatOpenAI\n",
    "\n",
    "llm=ChatOpenAI(model=\"gpt-4o\")\n",
    "print(llm)"
   ]
  },
  {
   "cell_type": "code",
   "execution_count": 7,
   "metadata": {},
   "outputs": [
    {
     "name": "stdout",
     "output_type": "stream",
     "text": [
      "content='Agentic AI refers to artificial intelligence systems that exhibit a degree of autonomy or agency in their operations. This means such AI systems can make decisions and perform tasks independently, without direct human intervention for each specific action. Agentic AI can perceive its environment, process and interpret data, and make informed decisions based on predefined goals or objectives it has been programmed to achieve.\\n\\nKey characteristics of agentic AI include:\\n\\n1. **Autonomy**: The ability to perform tasks without constant human guidance.\\n2. **Proactivity**: Initiating actions based on predictive modeling and analysis, sometimes anticipating future needs or problems.\\n3. **Adaptability**: Learning from interactions and experiences to improve performance over time.\\n4. **Reasoning**: Having the capacity to simulate potential outcomes and make decisions based on logical frameworks or learned experiences.\\n\\nAgentic AI is often contrasted with reactive AI, which can only respond to specific inputs or stimuli in a predetermined manner. Agentic AI is critical in areas such as robotics, autonomous vehicles, and smart assistants, where systems need to function dynamically and efficiently in complex and changing environments.' additional_kwargs={'refusal': None} response_metadata={'token_usage': {'completion_tokens': 221, 'prompt_tokens': 12, 'total_tokens': 233, 'completion_tokens_details': {'accepted_prediction_tokens': 0, 'audio_tokens': 0, 'reasoning_tokens': 0, 'rejected_prediction_tokens': 0}, 'prompt_tokens_details': {'audio_tokens': 0, 'cached_tokens': 0}}, 'model_name': 'gpt-4o-2024-08-06', 'system_fingerprint': 'fp_ff092ab25e', 'finish_reason': 'stop', 'logprobs': None} id='run-a4a495c9-8469-46d8-96a7-7500d1998932-0' usage_metadata={'input_tokens': 12, 'output_tokens': 221, 'total_tokens': 233, 'input_token_details': {'audio': 0, 'cache_read': 0}, 'output_token_details': {'audio': 0, 'reasoning': 0}}\n"
     ]
    }
   ],
   "source": [
    "result=llm.invoke(\"What is agentic AI\")\n",
    "print(result)"
   ]
  },
  {
   "cell_type": "code",
   "execution_count": 8,
   "metadata": {},
   "outputs": [
    {
     "name": "stdout",
     "output_type": "stream",
     "text": [
      "Agentic AI refers to artificial intelligence systems that exhibit a degree of autonomy or agency in their operations. This means such AI systems can make decisions and perform tasks independently, without direct human intervention for each specific action. Agentic AI can perceive its environment, process and interpret data, and make informed decisions based on predefined goals or objectives it has been programmed to achieve.\n",
      "\n",
      "Key characteristics of agentic AI include:\n",
      "\n",
      "1. **Autonomy**: The ability to perform tasks without constant human guidance.\n",
      "2. **Proactivity**: Initiating actions based on predictive modeling and analysis, sometimes anticipating future needs or problems.\n",
      "3. **Adaptability**: Learning from interactions and experiences to improve performance over time.\n",
      "4. **Reasoning**: Having the capacity to simulate potential outcomes and make decisions based on logical frameworks or learned experiences.\n",
      "\n",
      "Agentic AI is often contrasted with reactive AI, which can only respond to specific inputs or stimuli in a predetermined manner. Agentic AI is critical in areas such as robotics, autonomous vehicles, and smart assistants, where systems need to function dynamically and efficiently in complex and changing environments.\n"
     ]
    }
   ],
   "source": [
    "print(result.content)"
   ]
  },
  {
   "cell_type": "code",
   "execution_count": 9,
   "metadata": {},
   "outputs": [
    {
     "data": {
      "text/plain": [
       "ChatPromptTemplate(input_variables=['input'], input_types={}, partial_variables={}, messages=[SystemMessagePromptTemplate(prompt=PromptTemplate(input_variables=[], input_types={}, partial_variables={}, template='You are an expert AI Engineer. Provide me answer based on the question'), additional_kwargs={}), HumanMessagePromptTemplate(prompt=PromptTemplate(input_variables=['input'], input_types={}, partial_variables={}, template='{input}'), additional_kwargs={})])"
      ]
     },
     "execution_count": 9,
     "metadata": {},
     "output_type": "execute_result"
    }
   ],
   "source": [
    "from langchain_core.prompts import ChatPromptTemplate\n",
    "\n",
    "prompt=ChatPromptTemplate.from_messages(\n",
    "    [\n",
    "        (\"system\",\"You are an expert AI Engineer. Provide me answer based on the question\"),\n",
    "        (\"user\",\"{input}\")\n",
    "\n",
    "    ]\n",
    ")\n",
    "prompt"
   ]
  },
  {
   "cell_type": "code",
   "execution_count": 10,
   "metadata": {},
   "outputs": [
    {
     "name": "stdout",
     "output_type": "stream",
     "text": [
      "content='Langsmith is a platform that provides tools and services designed to enhance the development and deployment of language models and applications. It typically includes features for managing and optimizing prompt engineering, integrating language models into applications, and analyzing their performance. Langsmith aims to streamline the process of working with language-based AI by offering user-friendly interfaces and robust functionalities to improve both efficiency and effectiveness in application development. This can include experimentation with different prompt designs, monitoring and debugging capabilities, and analytics to understand model outputs better. As of my knowledge cutoff in October 2023, Langsmith is positioned as a valuable resource for developers looking to leverage advanced language models in their projects.' additional_kwargs={'refusal': None} response_metadata={'token_usage': {'completion_tokens': 130, 'prompt_tokens': 32, 'total_tokens': 162, 'completion_tokens_details': {'accepted_prediction_tokens': 0, 'audio_tokens': 0, 'reasoning_tokens': 0, 'rejected_prediction_tokens': 0}, 'prompt_tokens_details': {'audio_tokens': 0, 'cached_tokens': 0}}, 'model_name': 'gpt-4o-2024-08-06', 'system_fingerprint': 'fp_ff092ab25e', 'finish_reason': 'stop', 'logprobs': None} id='run-9c1d1af3-c243-4c46-a7d2-ce5595f5c644-0' usage_metadata={'input_tokens': 32, 'output_tokens': 130, 'total_tokens': 162, 'input_token_details': {'audio': 0, 'cache_read': 0}, 'output_token_details': {'audio': 0, 'reasoning': 0}}\n"
     ]
    }
   ],
   "source": [
    "chain=prompt|llm \n",
    "\n",
    "response=chain.invoke({\"input\":\"Can you tell me about Langsmith\"})\n",
    "print(response)"
   ]
  },
  {
   "cell_type": "code",
   "execution_count": 11,
   "metadata": {},
   "outputs": [
    {
     "name": "stdout",
     "output_type": "stream",
     "text": [
      "Langsmith is a suite of tools and services designed to enhance the development and deployment of applications that leverage language models. It assists developers throughout various stages of application creation, offering functionalities for debugging, testing, and monitoring. A key focus of Langsmith is improving the user experience by enabling more efficient interactions with language models and providing metrics for fine-tuning the models' performance. It supports both large and small application builds by integrating seamlessly with existing infrastructure, aiming to streamline workflows and maximize the effectiveness of language model applications.\n"
     ]
    }
   ],
   "source": [
    "from langchain_core.output_parsers import StrOutputParser\n",
    "output_parser=StrOutputParser()\n",
    "\n",
    "chain=prompt|llm|output_parser\n",
    "\n",
    "response=chain.invoke({\"input\":\"Can you tell me about Langsmith?\"})\n",
    "print(response)"
   ]
  },
  {
   "cell_type": "code",
   "execution_count": 12,
   "metadata": {},
   "outputs": [],
   "source": [
    "from langchain_core.prompts import PromptTemplate\n",
    "from langchain_core.output_parsers import JsonOutputParser\n",
    "\n",
    "\n",
    "output_parser=JsonOutputParser()\n",
    "prompt = PromptTemplate(\n",
    "    template=\"Answer the user query.\\n{format_instructions}\\n{input}\\n\",\n",
    "    input_variables=[\"input\"],\n",
    "    partial_variables={\"format_instructions\": output_parser.get_format_instructions()},\n",
    ")\n"
   ]
  },
  {
   "cell_type": "code",
   "execution_count": 13,
   "metadata": {},
   "outputs": [
    {
     "name": "stdout",
     "output_type": "stream",
     "text": [
      "{'name': 'Langsmith', 'description': \"Langsmith is a toolkit designed to enhance and evaluate language applications, created by LangChain. It focuses on providing tools for monitoring, tracing, and evaluating language models. Langsmith's tools are effective for building prototypes, running evaluations, and deploying language model applications with improved performance and reliability.\", 'features': ['Monitoring language model applications', 'Tracing requests and responses', \"Evaluating language models' performance\", 'Testing and improving application reliability', 'Integration with other LangChain tools'], 'provider': 'LangChain'}\n"
     ]
    }
   ],
   "source": [
    "chain=prompt|llm|output_parser\n",
    "\n",
    "response=chain.invoke({\"input\":\"Can you tell me about Langsmith?\"})\n",
    "print(response)"
   ]
  }
 ],
 "metadata": {
  "kernelspec": {
   "display_name": "Python 3",
   "language": "python",
   "name": "python3"
  },
  "language_info": {
   "codemirror_mode": {
    "name": "ipython",
    "version": 3
   },
   "file_extension": ".py",
   "mimetype": "text/x-python",
   "name": "python",
   "nbconvert_exporter": "python",
   "pygments_lexer": "ipython3",
   "version": "3.12.0"
  }
 },
 "nbformat": 4,
 "nbformat_minor": 2
}
